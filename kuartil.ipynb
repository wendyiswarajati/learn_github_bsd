{
 "cells": [
  {
   "cell_type": "code",
   "execution_count": 1,
   "metadata": {},
   "outputs": [
    {
     "name": "stdout",
     "output_type": "stream",
     "text": [
      "[1, 2, 2, 2, 2, 3, 5, 7, 9, 10]\n",
      "Kuartil Q1 = 2\n",
      "Kuartil Q2 = 2.5\n",
      "Kuartil Q3 = 7\n"
     ]
    }
   ],
   "source": [
    "x = [ 1,2,3,2,5,2,7,2,9,10 ]\n",
    "x.sort()\n",
    "print(x)\n",
    "def getMedian(urutan) :\n",
    "    import math\n",
    "    urutan.sort(); \n",
    "    median = 0; \n",
    "    if (len(urutan) % 2 != 0) :\n",
    "\t    median = urutan[math.floor(len(urutan) / 2)];\n",
    "    else :\n",
    "        mid1 = urutan[(int(len(urutan) / 2) - 1)];\n",
    "        mid2 = urutan[int(len(urutan) / 2)]\n",
    "        median = (mid1 + mid2) / 2;\n",
    "    return median;\n",
    "\n",
    "median = getMedian(x)\n",
    "\n",
    "import math\n",
    "index_median = math.floor(len(x) / 2);\n",
    "x_q1 =[];\n",
    "x_q3 =[];\n",
    "for i in range(index_median):\n",
    "    x_q1.append(x[i])\n",
    "if (len(x) % 2 == 0):\n",
    "    for i in range(index_median,len(x)):\n",
    "        x_q3.append(x[i])\n",
    "else:\n",
    "    for i in range(index_median + 1,len(x)):\n",
    "        x_q3.append(x[i])\n",
    "\n",
    "print(\"Kuartil Q1 = \" + str(getMedian(x_q1)))\n",
    "print(\"Kuartil Q2 = \" + str(getMedian(x)))\n",
    "print(\"Kuartil Q3 = \" + str(getMedian(x_q3)))"
   ]
  },
  {
   "cell_type": "code",
   "execution_count": null,
   "metadata": {},
   "outputs": [],
   "source": []
  }
 ],
 "metadata": {
  "kernelspec": {
   "display_name": "Python 3",
   "language": "python",
   "name": "python3"
  },
  "language_info": {
   "codemirror_mode": {
    "name": "ipython",
    "version": 3
   },
   "file_extension": ".py",
   "mimetype": "text/x-python",
   "name": "python",
   "nbconvert_exporter": "python",
   "pygments_lexer": "ipython3",
   "version": "3.7.1"
  }
 },
 "nbformat": 4,
 "nbformat_minor": 2
}
